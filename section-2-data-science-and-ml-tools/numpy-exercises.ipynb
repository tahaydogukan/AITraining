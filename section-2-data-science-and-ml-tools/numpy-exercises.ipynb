{
  "cells": [
    {
      "cell_type": "markdown",
      "metadata": {
        "id": "W3UuCS9n0tMF"
      },
      "source": [
        "# NumPy Practice\n",
        "\n",
        "This notebook offers a set of exercises for different tasks with NumPy.\n",
        "\n",
        "It should be noted there may be more than one different way to answer a question or complete an exercise.\n",
        "\n",
        "Exercises are based off (and directly taken from) the quick introduction to NumPy notebook.\n",
        "\n",
        "Different tasks will be detailed by comments or text.\n",
        "\n",
        "For further reference and resources, it's advised to check out the [NumPy documentation](https://numpy.org/devdocs/user/index.html).\n",
        "\n",
        "And if you get stuck, try searching for a question in the following format: \"how to do XYZ with numpy\", where XYZ is the function you want to leverage from NumPy."
      ]
    },
    {
      "cell_type": "code",
      "execution_count": 1,
      "metadata": {
        "id": "moZE6Phg0tMG"
      },
      "outputs": [],
      "source": [
        "# Import NumPy as its abbreviation 'np'\n",
        "import numpy as np"
      ]
    },
    {
      "cell_type": "code",
      "execution_count": 2,
      "metadata": {
        "id": "URQx1i4o0tMH"
      },
      "outputs": [],
      "source": [
        "# Create a 1-dimensional NumPy array using np.array()\n",
        "a1 = np.array([1, 2, 3])\n",
        "\n",
        "# Create a 2-dimensional NumPy array using np.array()\n",
        "a2 = np.array([[1, 2, 3],\n",
        "                [4, 5, 6]])\n",
        "\n",
        "# Create a 3-dimensional Numpy array using np.array()\n",
        "a3 = np.array([[[1, 2, 3],\n",
        "                [4, 5, 6],\n",
        "                [7, 8, 9]],\n",
        "                [[10, 11, 12],\n",
        "                 [13, 14, 15],\n",
        "                 [16, 17, 18]]])"
      ]
    },
    {
      "cell_type": "markdown",
      "metadata": {
        "id": "IEFZWe4h0tMH"
      },
      "source": [
        "Now we've you've created 3 different arrays, let's find details about them.\n",
        "\n",
        "Find the shape, number of dimensions, data type, size and type of each array."
      ]
    },
    {
      "cell_type": "code",
      "execution_count": 3,
      "metadata": {
        "id": "6moYllmS0tMH",
        "outputId": "cfbd343d-5d65-4f14-fd8a-14507532be0c",
        "colab": {
          "base_uri": "https://localhost:8080/"
        }
      },
      "outputs": [
        {
          "output_type": "execute_result",
          "data": {
            "text/plain": [
              "((3,), 1, dtype('int64'), 3, numpy.ndarray)"
            ]
          },
          "metadata": {},
          "execution_count": 3
        }
      ],
      "source": [
        "# Attributes of 1-dimensional array (shape,\n",
        "# number of dimensions, data type, size and type)\n",
        "a1.shape,a1.ndim,a1.dtype,a1.size,type(a1)"
      ]
    },
    {
      "cell_type": "code",
      "execution_count": 4,
      "metadata": {
        "id": "TlETEhSz0tMH",
        "outputId": "4ff6d25b-44fa-46df-b983-db3f1da1894d",
        "colab": {
          "base_uri": "https://localhost:8080/"
        }
      },
      "outputs": [
        {
          "output_type": "execute_result",
          "data": {
            "text/plain": [
              "((2, 3), 2, dtype('int64'), 6, numpy.ndarray)"
            ]
          },
          "metadata": {},
          "execution_count": 4
        }
      ],
      "source": [
        "# Attributes of 2-dimensional array\n",
        "a2.shape, a2.ndim, a2.dtype, a2.size, type(a2)\n"
      ]
    },
    {
      "cell_type": "code",
      "execution_count": 5,
      "metadata": {
        "id": "1swLe-Rs0tMH",
        "outputId": "5af28905-88f9-4a2b-b37d-2735d5ef14a3",
        "colab": {
          "base_uri": "https://localhost:8080/"
        }
      },
      "outputs": [
        {
          "output_type": "execute_result",
          "data": {
            "text/plain": [
              "((2, 3, 3), 3, dtype('int64'), 18, numpy.ndarray)"
            ]
          },
          "metadata": {},
          "execution_count": 5
        }
      ],
      "source": [
        "# Attributes of 3-dimensional array\n",
        "a3.shape, a3.ndim, a3.dtype, a3.size, type(a3)\n"
      ]
    },
    {
      "cell_type": "code",
      "execution_count": 6,
      "metadata": {
        "id": "n0a9smL40tMI",
        "outputId": "e50b3ba6-9010-417f-9eda-08a1417aa9f0",
        "colab": {
          "base_uri": "https://localhost:8080/"
        }
      },
      "outputs": [
        {
          "output_type": "execute_result",
          "data": {
            "text/plain": [
              "array([[1, 2, 3],\n",
              "       [4, 5, 6]])"
            ]
          },
          "metadata": {},
          "execution_count": 6
        }
      ],
      "source": [
        "# Import pandas and create a DataFrame out of one\n",
        "# of the arrays you've created\n",
        "import pandas as pd\n",
        "\n",
        "df=pd.DataFrame(a2)\n",
        "a2"
      ]
    },
    {
      "cell_type": "code",
      "execution_count": 54,
      "metadata": {
        "id": "iQmBai1v0tMI",
        "outputId": "9d99cb18-b853-45dc-ac10-2b3e232df7d3",
        "colab": {
          "base_uri": "https://localhost:8080/"
        }
      },
      "outputs": [
        {
          "output_type": "execute_result",
          "data": {
            "text/plain": [
              "array([[1., 1.],\n",
              "       [1., 1.],\n",
              "       [1., 1.],\n",
              "       [1., 1.],\n",
              "       [1., 1.],\n",
              "       [1., 1.],\n",
              "       [1., 1.],\n",
              "       [1., 1.],\n",
              "       [1., 1.],\n",
              "       [1., 1.]])"
            ]
          },
          "metadata": {},
          "execution_count": 54
        }
      ],
      "source": [
        "# Create an array of shape (10, 2) with only ones\n",
        "np.ones((10,2))"
      ]
    },
    {
      "cell_type": "code",
      "execution_count": 58,
      "metadata": {
        "id": "M0hjeDa80tMI",
        "outputId": "31c584c1-7e62-48b1-9fd3-faf1f515a51a",
        "colab": {
          "base_uri": "https://localhost:8080/"
        }
      },
      "outputs": [
        {
          "output_type": "execute_result",
          "data": {
            "text/plain": [
              "array([[[0., 0., 0.],\n",
              "        [0., 0., 0.]],\n",
              "\n",
              "       [[0., 0., 0.],\n",
              "        [0., 0., 0.]],\n",
              "\n",
              "       [[0., 0., 0.],\n",
              "        [0., 0., 0.]],\n",
              "\n",
              "       [[0., 0., 0.],\n",
              "        [0., 0., 0.]],\n",
              "\n",
              "       [[0., 0., 0.],\n",
              "        [0., 0., 0.]],\n",
              "\n",
              "       [[0., 0., 0.],\n",
              "        [0., 0., 0.]],\n",
              "\n",
              "       [[0., 0., 0.],\n",
              "        [0., 0., 0.]]])"
            ]
          },
          "metadata": {},
          "execution_count": 58
        }
      ],
      "source": [
        "# Create an array of shape (7, 2, 3) of only zeros\n",
        "np.zeros((7,2,3))"
      ]
    },
    {
      "cell_type": "code",
      "source": [],
      "metadata": {
        "id": "ggOuDeDcrdU9"
      },
      "execution_count": null,
      "outputs": []
    },
    {
      "cell_type": "code",
      "execution_count": 60,
      "metadata": {
        "id": "5JebS3hL0tMI",
        "outputId": "a41403d2-dcae-4860-91ff-2e67834b1c16",
        "colab": {
          "base_uri": "https://localhost:8080/"
        }
      },
      "outputs": [
        {
          "output_type": "execute_result",
          "data": {
            "text/plain": [
              "array([ 0,  3,  6,  9, 12, 15, 18, 21, 24, 27, 30, 33, 36, 39, 42, 45, 48,\n",
              "       51, 54, 57, 60, 63, 66, 69, 72, 75, 78, 81, 84, 87, 90, 93, 96, 99])"
            ]
          },
          "metadata": {},
          "execution_count": 60
        }
      ],
      "source": [
        "# Create an array within a range of 0 and 100 with step 3\n",
        "np.array(range(0,100,3))"
      ]
    },
    {
      "cell_type": "code",
      "execution_count": 62,
      "metadata": {
        "id": "5m5LwggF0tMI",
        "outputId": "6a57ed52-f88c-4661-c397-abbc8371cd17",
        "colab": {
          "base_uri": "https://localhost:8080/"
        }
      },
      "outputs": [
        {
          "output_type": "execute_result",
          "data": {
            "text/plain": [
              "array([[6, 8],\n",
              "       [2, 0],\n",
              "       [1, 8],\n",
              "       [3, 5],\n",
              "       [1, 8],\n",
              "       [1, 3],\n",
              "       [7, 2]])"
            ]
          },
          "metadata": {},
          "execution_count": 62
        }
      ],
      "source": [
        "# Create a random array with numbers between 0 and 10 of size (7, 2)\n",
        "np.random.randint(0,10,size=(7,2))"
      ]
    },
    {
      "cell_type": "code",
      "execution_count": 66,
      "metadata": {
        "id": "UFwE7tuG0tMI",
        "outputId": "96e52245-7be6-4ded-d507-0d7c8799ec74",
        "colab": {
          "base_uri": "https://localhost:8080/"
        }
      },
      "outputs": [
        {
          "output_type": "execute_result",
          "data": {
            "text/plain": [
              "array([[0.53326646, 0.47714645, 0.1999375 , 0.92440348, 0.53589423],\n",
              "       [0.09394733, 0.1061896 , 0.52575188, 0.7291706 , 0.51615898],\n",
              "       [0.10975144, 0.66453233, 0.12484384, 0.41888678, 0.92257425]])"
            ]
          },
          "metadata": {},
          "execution_count": 66
        }
      ],
      "source": [
        "# Create a random array of floats between 0 & 1 of shape (3, 5)\n",
        "np.random.random((3, 5))\n"
      ]
    },
    {
      "cell_type": "code",
      "execution_count": 69,
      "metadata": {
        "id": "whnzEpCj0tMI",
        "outputId": "a04ebbbb-f0ab-479a-a552-9a7b1e133e34",
        "colab": {
          "base_uri": "https://localhost:8080/"
        }
      },
      "outputs": [
        {
          "output_type": "execute_result",
          "data": {
            "text/plain": [
              "array([[6, 3, 7, 4, 6, 9],\n",
              "       [2, 6, 7, 4, 3, 7],\n",
              "       [7, 2, 5, 4, 1, 7],\n",
              "       [5, 1, 4, 0, 9, 5]])"
            ]
          },
          "metadata": {},
          "execution_count": 69
        }
      ],
      "source": [
        "# Set the random seed to 42\n",
        "np.random.seed(42)\n",
        "\n",
        "# Create a random array of numbers between 0 & 10 of size (4, 6)\n",
        "np.random.randint(0,10,size=(4,6))"
      ]
    },
    {
      "cell_type": "markdown",
      "metadata": {
        "id": "NAbuyTDL0tMI"
      },
      "source": [
        "Run the cell above again, what happens?\n",
        "\n",
        "Are the numbers in the array different or the same? Why do think this is?"
      ]
    },
    {
      "cell_type": "code",
      "execution_count": 87,
      "metadata": {
        "id": "rYWzgaLI0tMI",
        "outputId": "d584f351-7160-452d-e88e-b6963c7ce37e",
        "colab": {
          "base_uri": "https://localhost:8080/"
        }
      },
      "outputs": [
        {
          "output_type": "execute_result",
          "data": {
            "text/plain": [
              "array([1, 2, 3, 4, 5, 6, 7, 8, 9])"
            ]
          },
          "metadata": {},
          "execution_count": 87
        }
      ],
      "source": [
        "# Create an array of random numbers between 1 & 10 of size (3, 7)\n",
        "# and save it to a variable\n",
        "\n",
        "array = np.random.randint(1,10,size=(3,7))\n",
        "\n",
        "# Find the unique numbers in the array you just created\n",
        "np.unique(array)"
      ]
    },
    {
      "cell_type": "code",
      "execution_count": 88,
      "metadata": {
        "id": "dRlYDcOR0tMI",
        "outputId": "a43134d9-4ea4-45bc-baf7-79fb905ba6a7",
        "colab": {
          "base_uri": "https://localhost:8080/"
        }
      },
      "outputs": [
        {
          "output_type": "execute_result",
          "data": {
            "text/plain": [
              "array([5, 6, 3, 9, 5, 8, 1])"
            ]
          },
          "metadata": {},
          "execution_count": 88
        }
      ],
      "source": [
        "# Find the 0'th index of the latest array you created\n",
        "array[0]"
      ]
    },
    {
      "cell_type": "code",
      "execution_count": 89,
      "metadata": {
        "id": "9mJcKEnl0tMJ",
        "outputId": "4d0582df-1470-48fc-9b0d-fa439ce8b7a7",
        "colab": {
          "base_uri": "https://localhost:8080/"
        }
      },
      "outputs": [
        {
          "output_type": "execute_result",
          "data": {
            "text/plain": [
              "array([[5, 6, 3, 9, 5, 8, 1],\n",
              "       [5, 3, 1, 4, 5, 7, 1]])"
            ]
          },
          "metadata": {},
          "execution_count": 89
        }
      ],
      "source": [
        "# Get the first 2 rows of latest array you created\n",
        "array[:2]"
      ]
    },
    {
      "cell_type": "code",
      "execution_count": 91,
      "metadata": {
        "id": "zcsBcfN60tMJ",
        "outputId": "8ef7788e-75ed-4a88-bd39-3591edbe29fd",
        "colab": {
          "base_uri": "https://localhost:8080/"
        }
      },
      "outputs": [
        {
          "output_type": "execute_result",
          "data": {
            "text/plain": [
              "array([[5, 6],\n",
              "       [5, 3]])"
            ]
          },
          "metadata": {},
          "execution_count": 91
        }
      ],
      "source": [
        "# Get the first 2 values of the first 2 rows of the latest array\n",
        "array[:2,:2]"
      ]
    },
    {
      "cell_type": "code",
      "execution_count": 92,
      "metadata": {
        "id": "fCQALXsK0tMJ"
      },
      "outputs": [],
      "source": [
        "# Create a random array of numbers between 0 & 10 and an array of ones\n",
        "# both of size (3, 5), save them both to variables\n",
        "arrayint = np.random.randint(0,10,size=(3,5))\n",
        "arrayones = np.ones((3,5))"
      ]
    },
    {
      "cell_type": "code",
      "execution_count": 95,
      "metadata": {
        "id": "2Tu1Azzh0tMJ",
        "outputId": "b0ff9468-ce3c-47d5-a8b1-f8b4c4346f70",
        "colab": {
          "base_uri": "https://localhost:8080/",
          "height": 166
        }
      },
      "outputs": [
        {
          "output_type": "error",
          "ename": "ValueError",
          "evalue": "operands could not be broadcast together with shapes (3,5) (5,3) ",
          "traceback": [
            "\u001b[0;31m---------------------------------------------------------------------------\u001b[0m",
            "\u001b[0;31mValueError\u001b[0m                                Traceback (most recent call last)",
            "\u001b[0;32m/tmp/ipython-input-612666678.py\u001b[0m in \u001b[0;36m<cell line: 0>\u001b[0;34m()\u001b[0m\n\u001b[1;32m      1\u001b[0m \u001b[0;31m# Add the two arrays together\u001b[0m\u001b[0;34m\u001b[0m\u001b[0;34m\u001b[0m\u001b[0m\n\u001b[0;32m----> 2\u001b[0;31m \u001b[0msonuc\u001b[0m \u001b[0;34m=\u001b[0m \u001b[0marrayint\u001b[0m \u001b[0;34m+\u001b[0m \u001b[0marrayones\u001b[0m\u001b[0;34m\u001b[0m\u001b[0;34m\u001b[0m\u001b[0m\n\u001b[0m",
            "\u001b[0;31mValueError\u001b[0m: operands could not be broadcast together with shapes (3,5) (5,3) "
          ]
        }
      ],
      "source": [
        "# Add the two arrays together\n",
        "sonuc = arrayint + arrayones"
      ]
    },
    {
      "cell_type": "code",
      "execution_count": 94,
      "metadata": {
        "id": "QZXrigHZ0tMJ"
      },
      "outputs": [],
      "source": [
        "# Create another array of ones of shape (5, 3)\n",
        "arrayones = np.ones((5,3))"
      ]
    },
    {
      "cell_type": "code",
      "execution_count": 20,
      "metadata": {
        "id": "MUTWXGSk0tMJ"
      },
      "outputs": [],
      "source": [
        "# Try add the array of ones and the other most recent array together\n"
      ]
    },
    {
      "cell_type": "markdown",
      "metadata": {
        "id": "DZuZ17nt0tMJ"
      },
      "source": [
        "When you try the last cell, it produces an error. Why do think this is?\n",
        "\n",
        "How would you fix it?"
      ]
    },
    {
      "cell_type": "code",
      "execution_count": 96,
      "metadata": {
        "id": "dBmqW1h80tMJ"
      },
      "outputs": [],
      "source": [
        "# Create another array of ones of shape (3, 5)\n",
        "arrayones1 = np.ones((3,5))"
      ]
    },
    {
      "cell_type": "code",
      "execution_count": 22,
      "metadata": {
        "id": "YK6hgUGh0tMJ"
      },
      "outputs": [],
      "source": [
        "# Subtract the new array of ones from the other most recent array\n"
      ]
    },
    {
      "cell_type": "code",
      "execution_count": 23,
      "metadata": {
        "id": "m_PvBl9-0tMJ"
      },
      "outputs": [],
      "source": [
        "# Multiply the ones array with the latest array\n"
      ]
    },
    {
      "cell_type": "code",
      "execution_count": 24,
      "metadata": {
        "id": "_Ib50cy50tMJ"
      },
      "outputs": [],
      "source": [
        "# Take the latest array to the power of 2 using '**'\n"
      ]
    },
    {
      "cell_type": "code",
      "execution_count": 25,
      "metadata": {
        "id": "OTiK5Br60tMJ"
      },
      "outputs": [],
      "source": [
        "# Do the same thing with np.square()\n"
      ]
    },
    {
      "cell_type": "code",
      "execution_count": 26,
      "metadata": {
        "id": "ef2a7n1-0tMJ"
      },
      "outputs": [],
      "source": [
        "# Find the mean of the latest array using np.mean()\n"
      ]
    },
    {
      "cell_type": "code",
      "execution_count": 27,
      "metadata": {
        "id": "sKefud7X0tMK"
      },
      "outputs": [],
      "source": [
        "# Find the maximum of the latest array using np.max()\n"
      ]
    },
    {
      "cell_type": "code",
      "execution_count": 28,
      "metadata": {
        "id": "41oHyu0b0tMK"
      },
      "outputs": [],
      "source": [
        "# Find the minimum of the latest array using np.min()\n"
      ]
    },
    {
      "cell_type": "code",
      "execution_count": 29,
      "metadata": {
        "id": "usdcntM60tMK"
      },
      "outputs": [],
      "source": [
        "# Find the standard deviation of the latest array\n"
      ]
    },
    {
      "cell_type": "code",
      "execution_count": 30,
      "metadata": {
        "id": "CZ5FzdFj0tMK"
      },
      "outputs": [],
      "source": [
        "# Find the variance of the latest array\n"
      ]
    },
    {
      "cell_type": "code",
      "execution_count": 31,
      "metadata": {
        "id": "4HiXDeVm0tMK"
      },
      "outputs": [],
      "source": [
        "# Reshape the latest array to (3, 5, 1)\n"
      ]
    },
    {
      "cell_type": "code",
      "execution_count": 32,
      "metadata": {
        "id": "Z23Sszj00tMK"
      },
      "outputs": [],
      "source": [
        "# Transpose the latest array\n"
      ]
    },
    {
      "cell_type": "markdown",
      "metadata": {
        "id": "4t46xs070tMK"
      },
      "source": [
        "What does the transpose do?"
      ]
    },
    {
      "cell_type": "code",
      "execution_count": 33,
      "metadata": {
        "id": "WFxqLg8X0tMK"
      },
      "outputs": [],
      "source": [
        "# Create two arrays of random integers between 0 to 10\n",
        "# one of size (3, 3) the other of size (3, 2)\n"
      ]
    },
    {
      "cell_type": "code",
      "execution_count": 34,
      "metadata": {
        "id": "dYEeUVug0tMK"
      },
      "outputs": [],
      "source": [
        "# Perform a dot product on the two newest arrays you created\n"
      ]
    },
    {
      "cell_type": "code",
      "execution_count": 35,
      "metadata": {
        "id": "psV_U4Hi0tMO"
      },
      "outputs": [],
      "source": [
        "# Create two arrays of random integers between 0 to 10\n",
        "# both of size (4, 3)\n"
      ]
    },
    {
      "cell_type": "code",
      "execution_count": 36,
      "metadata": {
        "id": "wMnkCJjO0tMO"
      },
      "outputs": [],
      "source": [
        "# Perform a dot product on the two newest arrays you created\n"
      ]
    },
    {
      "cell_type": "markdown",
      "metadata": {
        "id": "MkPYlj9Q0tMO"
      },
      "source": [
        "It doesn't work. How would you fix it?"
      ]
    },
    {
      "cell_type": "code",
      "execution_count": 37,
      "metadata": {
        "id": "s0ZcumrX0tMO"
      },
      "outputs": [],
      "source": [
        "# Take the latest two arrays, perform a transpose on one of them and then perform\n",
        "# a dot product on them both\n"
      ]
    },
    {
      "cell_type": "markdown",
      "metadata": {
        "id": "nS37FL8o0tMO"
      },
      "source": [
        "Notice how performing a transpose allows the dot product to happen.\n",
        "\n",
        "Why is this?\n",
        "\n",
        "Checking out the documentation on [`np.dot()`](https://docs.scipy.org/doc/numpy/reference/generated/numpy.dot.html) may help, as well as reading [Math is Fun's guide on the dot product](https://www.mathsisfun.com/algebra/vectors-dot-product.html).\n",
        "\n",
        "Let's now compare arrays."
      ]
    },
    {
      "cell_type": "code",
      "execution_count": 38,
      "metadata": {
        "id": "WBq_di-k0tMO"
      },
      "outputs": [],
      "source": [
        "# Create two arrays of random integers between 0 & 10 of the same shape\n",
        "# and save them to variables\n"
      ]
    },
    {
      "cell_type": "code",
      "execution_count": 39,
      "metadata": {
        "id": "QMaa9dZL0tMO"
      },
      "outputs": [],
      "source": [
        "# Compare the two arrays with '>'\n"
      ]
    },
    {
      "cell_type": "markdown",
      "metadata": {
        "id": "HDkkQ0yD0tMP"
      },
      "source": [
        "What happens when you compare the arrays with `>`?"
      ]
    },
    {
      "cell_type": "code",
      "execution_count": 40,
      "metadata": {
        "id": "A0R8aEhg0tMP"
      },
      "outputs": [],
      "source": [
        "# Compare the two arrays with '>='\n"
      ]
    },
    {
      "cell_type": "code",
      "execution_count": 41,
      "metadata": {
        "id": "IMvM7yzr0tMP"
      },
      "outputs": [],
      "source": [
        "# Find which elements of the first array are greater than 7\n"
      ]
    },
    {
      "cell_type": "code",
      "execution_count": 42,
      "metadata": {
        "id": "e6OhP88R0tMP"
      },
      "outputs": [],
      "source": [
        "# Which parts of each array are equal? (try using '==')\n"
      ]
    },
    {
      "cell_type": "code",
      "execution_count": 43,
      "metadata": {
        "id": "CB3iRODV0tMP"
      },
      "outputs": [],
      "source": [
        "# Sort one of the arrays you just created in ascending order\n"
      ]
    },
    {
      "cell_type": "code",
      "execution_count": 44,
      "metadata": {
        "id": "VDw8bRt50tMP"
      },
      "outputs": [],
      "source": [
        "# Sort the indexes of one of the arrays you just created\n"
      ]
    },
    {
      "cell_type": "code",
      "execution_count": 45,
      "metadata": {
        "id": "UOByo3SQ0tMP"
      },
      "outputs": [],
      "source": [
        "# Find the index with the maximum value in one of the arrays you've created\n"
      ]
    },
    {
      "cell_type": "code",
      "execution_count": 46,
      "metadata": {
        "id": "QrHDp4TR0tMP"
      },
      "outputs": [],
      "source": [
        "# Find the index with the minimum value in one of the arrays you've created\n"
      ]
    },
    {
      "cell_type": "code",
      "execution_count": 47,
      "metadata": {
        "id": "peCpw5hV0tMP"
      },
      "outputs": [],
      "source": [
        "# Find the indexes with the maximum values down the 1st axis (axis=1)\n",
        "# of one of the arrays you created\n"
      ]
    },
    {
      "cell_type": "code",
      "execution_count": 48,
      "metadata": {
        "id": "kMlQ5Zpn0tMP"
      },
      "outputs": [],
      "source": [
        "# Find the indexes with the minimum values across the 0th axis (axis=0)\n",
        "# of one of the arrays you created\n"
      ]
    },
    {
      "cell_type": "code",
      "execution_count": 49,
      "metadata": {
        "id": "FX3JFK2n0tMQ"
      },
      "outputs": [],
      "source": [
        "# Create an array of normally distributed random numbers\n"
      ]
    },
    {
      "cell_type": "code",
      "execution_count": 50,
      "metadata": {
        "id": "FQJkZJCW0tMQ"
      },
      "outputs": [],
      "source": [
        "# Create an array with 10 evenly spaced numbers between 1 and 100\n"
      ]
    },
    {
      "cell_type": "markdown",
      "metadata": {
        "id": "2ob2Y7iI0tMQ"
      },
      "source": [
        "## Extensions\n",
        "\n",
        "For more exercises, check out the [NumPy quickstart tutorial](https://numpy.org/doc/stable/user/quickstart.html). A good practice would be to read through it and for the parts you find interesting, add them into the end of this notebook.\n",
        "\n",
        "Pay particular attention to the section on broadcasting. And most importantly, get hands-on with the code as much as possible. If in dobut, run the code, see what it does.\n",
        "\n",
        "The next place you could go is the [Stack Overflow page for the top questions and answers for NumPy](https://stackoverflow.com/questions/tagged/numpy?sort=MostVotes&edited=true). Often, you'll find some of the most common and useful NumPy functions here. Don't forget to play around with the filters! You'll likely find something helpful here.\n",
        "\n",
        "Finally, as always, remember, the best way to learn something new is to try it. And try it relentlessly. If you get interested in some kind of NumPy function, asking yourself, \"I wonder if NumPy could do that?\", go and find out."
      ]
    }
  ],
  "metadata": {
    "kernelspec": {
      "display_name": "Python 3",
      "language": "python",
      "name": "python3"
    },
    "language_info": {
      "codemirror_mode": {
        "name": "ipython",
        "version": 3
      },
      "file_extension": ".py",
      "mimetype": "text/x-python",
      "name": "python",
      "nbconvert_exporter": "python",
      "pygments_lexer": "ipython3",
      "version": "3.8.3"
    },
    "colab": {
      "provenance": []
    }
  },
  "nbformat": 4,
  "nbformat_minor": 0
}