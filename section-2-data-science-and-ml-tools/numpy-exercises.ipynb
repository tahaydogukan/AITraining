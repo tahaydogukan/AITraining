{
  "cells": [
    {
      "cell_type": "markdown",
      "metadata": {
        "id": "W3UuCS9n0tMF"
      },
      "source": [
        "# NumPy Practice\n",
        "\n",
        "This notebook offers a set of exercises for different tasks with NumPy.\n",
        "\n",
        "It should be noted there may be more than one different way to answer a question or complete an exercise.\n",
        "\n",
        "Exercises are based off (and directly taken from) the quick introduction to NumPy notebook.\n",
        "\n",
        "Different tasks will be detailed by comments or text.\n",
        "\n",
        "For further reference and resources, it's advised to check out the [NumPy documentation](https://numpy.org/devdocs/user/index.html).\n",
        "\n",
        "And if you get stuck, try searching for a question in the following format: \"how to do XYZ with numpy\", where XYZ is the function you want to leverage from NumPy."
      ]
    },
    {
      "cell_type": "code",
      "execution_count": 97,
      "metadata": {
        "id": "moZE6Phg0tMG"
      },
      "outputs": [],
      "source": [
        "# Import NumPy as its abbreviation 'np'\n",
        "import numpy as np"
      ]
    },
    {
      "cell_type": "code",
      "execution_count": 98,
      "metadata": {
        "id": "URQx1i4o0tMH"
      },
      "outputs": [],
      "source": [
        "# Create a 1-dimensional NumPy array using np.array()\n",
        "a1 = np.array([1, 2, 3])\n",
        "\n",
        "# Create a 2-dimensional NumPy array using np.array()\n",
        "a2 = np.array([[1, 2, 3],\n",
        "                [4, 5, 6]])\n",
        "\n",
        "# Create a 3-dimensional Numpy array using np.array()\n",
        "a3 = np.array([[[1, 2, 3],\n",
        "                [4, 5, 6],\n",
        "                [7, 8, 9]],\n",
        "                [[10, 11, 12],\n",
        "                 [13, 14, 15],\n",
        "                 [16, 17, 18]]])"
      ]
    },
    {
      "cell_type": "markdown",
      "metadata": {
        "id": "IEFZWe4h0tMH"
      },
      "source": [
        "Now we've you've created 3 different arrays, let's find details about them.\n",
        "\n",
        "Find the shape, number of dimensions, data type, size and type of each array."
      ]
    },
    {
      "cell_type": "code",
      "execution_count": 99,
      "metadata": {
        "id": "6moYllmS0tMH",
        "outputId": "2f41c39d-0e8b-443c-f68b-4516e51ff0d0",
        "colab": {
          "base_uri": "https://localhost:8080/"
        }
      },
      "outputs": [
        {
          "output_type": "execute_result",
          "data": {
            "text/plain": [
              "((3,), 1, dtype('int64'), 3, numpy.ndarray)"
            ]
          },
          "metadata": {},
          "execution_count": 99
        }
      ],
      "source": [
        "# Attributes of 1-dimensional array (shape,\n",
        "# number of dimensions, data type, size and type)\n",
        "a1.shape,a1.ndim,a1.dtype,a1.size,type(a1)"
      ]
    },
    {
      "cell_type": "code",
      "execution_count": 100,
      "metadata": {
        "id": "TlETEhSz0tMH",
        "outputId": "6865b737-6b0d-4bec-fcdd-b5ed44cd07c1",
        "colab": {
          "base_uri": "https://localhost:8080/"
        }
      },
      "outputs": [
        {
          "output_type": "execute_result",
          "data": {
            "text/plain": [
              "((2, 3), 2, dtype('int64'), 6, numpy.ndarray)"
            ]
          },
          "metadata": {},
          "execution_count": 100
        }
      ],
      "source": [
        "# Attributes of 2-dimensional array\n",
        "a2.shape, a2.ndim, a2.dtype, a2.size, type(a2)\n"
      ]
    },
    {
      "cell_type": "code",
      "execution_count": 101,
      "metadata": {
        "id": "1swLe-Rs0tMH",
        "outputId": "54237435-9b88-4c5f-da5c-1af2a62737a9",
        "colab": {
          "base_uri": "https://localhost:8080/"
        }
      },
      "outputs": [
        {
          "output_type": "execute_result",
          "data": {
            "text/plain": [
              "((2, 3, 3), 3, dtype('int64'), 18, numpy.ndarray)"
            ]
          },
          "metadata": {},
          "execution_count": 101
        }
      ],
      "source": [
        "# Attributes of 3-dimensional array\n",
        "a3.shape, a3.ndim, a3.dtype, a3.size, type(a3)\n"
      ]
    },
    {
      "cell_type": "code",
      "execution_count": 102,
      "metadata": {
        "id": "n0a9smL40tMI",
        "outputId": "b147dd50-fc80-4051-f308-fe6bebe3bccf",
        "colab": {
          "base_uri": "https://localhost:8080/"
        }
      },
      "outputs": [
        {
          "output_type": "execute_result",
          "data": {
            "text/plain": [
              "array([[1, 2, 3],\n",
              "       [4, 5, 6]])"
            ]
          },
          "metadata": {},
          "execution_count": 102
        }
      ],
      "source": [
        "# Import pandas and create a DataFrame out of one\n",
        "# of the arrays you've created\n",
        "import pandas as pd\n",
        "\n",
        "df=pd.DataFrame(a2)\n",
        "a2"
      ]
    },
    {
      "cell_type": "code",
      "execution_count": 103,
      "metadata": {
        "id": "iQmBai1v0tMI",
        "outputId": "aa640d64-ecda-4caa-de17-3a6adb0b398a",
        "colab": {
          "base_uri": "https://localhost:8080/"
        }
      },
      "outputs": [
        {
          "output_type": "execute_result",
          "data": {
            "text/plain": [
              "array([[1., 1.],\n",
              "       [1., 1.],\n",
              "       [1., 1.],\n",
              "       [1., 1.],\n",
              "       [1., 1.],\n",
              "       [1., 1.],\n",
              "       [1., 1.],\n",
              "       [1., 1.],\n",
              "       [1., 1.],\n",
              "       [1., 1.]])"
            ]
          },
          "metadata": {},
          "execution_count": 103
        }
      ],
      "source": [
        "# Create an array of shape (10, 2) with only ones\n",
        "np.ones((10,2))"
      ]
    },
    {
      "cell_type": "code",
      "execution_count": 104,
      "metadata": {
        "id": "M0hjeDa80tMI",
        "outputId": "74b7cc00-3c6f-427b-9ac9-4b65695927a6",
        "colab": {
          "base_uri": "https://localhost:8080/"
        }
      },
      "outputs": [
        {
          "output_type": "execute_result",
          "data": {
            "text/plain": [
              "array([[[0., 0., 0.],\n",
              "        [0., 0., 0.]],\n",
              "\n",
              "       [[0., 0., 0.],\n",
              "        [0., 0., 0.]],\n",
              "\n",
              "       [[0., 0., 0.],\n",
              "        [0., 0., 0.]],\n",
              "\n",
              "       [[0., 0., 0.],\n",
              "        [0., 0., 0.]],\n",
              "\n",
              "       [[0., 0., 0.],\n",
              "        [0., 0., 0.]],\n",
              "\n",
              "       [[0., 0., 0.],\n",
              "        [0., 0., 0.]],\n",
              "\n",
              "       [[0., 0., 0.],\n",
              "        [0., 0., 0.]]])"
            ]
          },
          "metadata": {},
          "execution_count": 104
        }
      ],
      "source": [
        "# Create an array of shape (7, 2, 3) of only zeros\n",
        "np.zeros((7,2,3))"
      ]
    },
    {
      "cell_type": "code",
      "source": [],
      "metadata": {
        "id": "ggOuDeDcrdU9"
      },
      "execution_count": 104,
      "outputs": []
    },
    {
      "cell_type": "code",
      "execution_count": 105,
      "metadata": {
        "id": "5JebS3hL0tMI",
        "outputId": "079e9afd-c556-47fd-a75c-1b4cb329f3c5",
        "colab": {
          "base_uri": "https://localhost:8080/"
        }
      },
      "outputs": [
        {
          "output_type": "execute_result",
          "data": {
            "text/plain": [
              "array([ 0,  3,  6,  9, 12, 15, 18, 21, 24, 27, 30, 33, 36, 39, 42, 45, 48,\n",
              "       51, 54, 57, 60, 63, 66, 69, 72, 75, 78, 81, 84, 87, 90, 93, 96, 99])"
            ]
          },
          "metadata": {},
          "execution_count": 105
        }
      ],
      "source": [
        "# Create an array within a range of 0 and 100 with step 3\n",
        "np.array(range(0,100,3))"
      ]
    },
    {
      "cell_type": "code",
      "execution_count": 106,
      "metadata": {
        "id": "5m5LwggF0tMI",
        "outputId": "c71ffdf2-a796-46b5-cb30-fec33f9c30f2",
        "colab": {
          "base_uri": "https://localhost:8080/"
        }
      },
      "outputs": [
        {
          "output_type": "execute_result",
          "data": {
            "text/plain": [
              "array([[9, 2],\n",
              "       [1, 8],\n",
              "       [7, 9],\n",
              "       [6, 8],\n",
              "       [3, 3],\n",
              "       [0, 7],\n",
              "       [2, 6]])"
            ]
          },
          "metadata": {},
          "execution_count": 106
        }
      ],
      "source": [
        "# Create a random array with numbers between 0 and 10 of size (7, 2)\n",
        "np.random.randint(0,10,size=(7,2))"
      ]
    },
    {
      "cell_type": "code",
      "execution_count": 107,
      "metadata": {
        "id": "UFwE7tuG0tMI",
        "outputId": "f2d8071b-18b9-472b-d9d4-e60a13bb1b7e",
        "colab": {
          "base_uri": "https://localhost:8080/"
        }
      },
      "outputs": [
        {
          "output_type": "execute_result",
          "data": {
            "text/plain": [
              "array([[0.02761677, 0.5788649 , 0.43847412, 0.67202614, 0.32815267],\n",
              "       [0.15504162, 0.98184089, 0.8389335 , 0.86040462, 0.25025136],\n",
              "       [0.03883473, 0.30326551, 0.53708243, 0.32665124, 0.827869  ]])"
            ]
          },
          "metadata": {},
          "execution_count": 107
        }
      ],
      "source": [
        "# Create a random array of floats between 0 & 1 of shape (3, 5)\n",
        "np.random.random((3, 5))\n"
      ]
    },
    {
      "cell_type": "code",
      "execution_count": 108,
      "metadata": {
        "id": "whnzEpCj0tMI",
        "outputId": "947b6008-4e49-44dc-a34f-5ec98277abf9",
        "colab": {
          "base_uri": "https://localhost:8080/"
        }
      },
      "outputs": [
        {
          "output_type": "execute_result",
          "data": {
            "text/plain": [
              "array([[6, 3, 7, 4, 6, 9],\n",
              "       [2, 6, 7, 4, 3, 7],\n",
              "       [7, 2, 5, 4, 1, 7],\n",
              "       [5, 1, 4, 0, 9, 5]])"
            ]
          },
          "metadata": {},
          "execution_count": 108
        }
      ],
      "source": [
        "# Set the random seed to 42\n",
        "np.random.seed(42)\n",
        "\n",
        "# Create a random array of numbers between 0 & 10 of size (4, 6)\n",
        "np.random.randint(0,10,size=(4,6))"
      ]
    },
    {
      "cell_type": "markdown",
      "metadata": {
        "id": "NAbuyTDL0tMI"
      },
      "source": [
        "Run the cell above again, what happens?\n",
        "\n",
        "Are the numbers in the array different or the same? Why do think this is?"
      ]
    },
    {
      "cell_type": "code",
      "execution_count": 109,
      "metadata": {
        "id": "rYWzgaLI0tMI",
        "outputId": "d1dd5498-c13d-41b7-89c8-39a5da642264",
        "colab": {
          "base_uri": "https://localhost:8080/"
        }
      },
      "outputs": [
        {
          "output_type": "execute_result",
          "data": {
            "text/plain": [
              "array([1, 2, 3, 4, 5, 7, 9])"
            ]
          },
          "metadata": {},
          "execution_count": 109
        }
      ],
      "source": [
        "# Create an array of random numbers between 1 & 10 of size (3, 7)\n",
        "# and save it to a variable\n",
        "\n",
        "array = np.random.randint(1,10,size=(3,7))\n",
        "\n",
        "# Find the unique numbers in the array you just created\n",
        "np.unique(array)"
      ]
    },
    {
      "cell_type": "code",
      "execution_count": 110,
      "metadata": {
        "id": "dRlYDcOR0tMI",
        "outputId": "0dc48633-f2fd-447b-8840-eade76700656",
        "colab": {
          "base_uri": "https://localhost:8080/"
        }
      },
      "outputs": [
        {
          "output_type": "execute_result",
          "data": {
            "text/plain": [
              "array([9, 1, 3, 7, 4, 9, 3])"
            ]
          },
          "metadata": {},
          "execution_count": 110
        }
      ],
      "source": [
        "# Find the 0'th index of the latest array you created\n",
        "array[0]"
      ]
    },
    {
      "cell_type": "code",
      "execution_count": 111,
      "metadata": {
        "id": "9mJcKEnl0tMJ",
        "outputId": "e969aeb2-7f6a-4f90-de1c-e61550fe6b19",
        "colab": {
          "base_uri": "https://localhost:8080/"
        }
      },
      "outputs": [
        {
          "output_type": "execute_result",
          "data": {
            "text/plain": [
              "array([[9, 1, 3, 7, 4, 9, 3],\n",
              "       [5, 3, 7, 5, 9, 7, 2]])"
            ]
          },
          "metadata": {},
          "execution_count": 111
        }
      ],
      "source": [
        "# Get the first 2 rows of latest array you created\n",
        "array[:2]"
      ]
    },
    {
      "cell_type": "code",
      "execution_count": 112,
      "metadata": {
        "id": "zcsBcfN60tMJ",
        "outputId": "19286b96-9f6d-471d-bbea-0b928655a889",
        "colab": {
          "base_uri": "https://localhost:8080/"
        }
      },
      "outputs": [
        {
          "output_type": "execute_result",
          "data": {
            "text/plain": [
              "array([[9, 1],\n",
              "       [5, 3]])"
            ]
          },
          "metadata": {},
          "execution_count": 112
        }
      ],
      "source": [
        "# Get the first 2 values of the first 2 rows of the latest array\n",
        "array[:2,:2]"
      ]
    },
    {
      "cell_type": "code",
      "execution_count": 113,
      "metadata": {
        "id": "fCQALXsK0tMJ"
      },
      "outputs": [],
      "source": [
        "# Create a random array of numbers between 0 & 10 and an array of ones\n",
        "# both of size (3, 5), save them both to variables\n",
        "arrayint = np.random.randint(0,10,size=(3,5))\n",
        "arrayones = np.ones((3,5))"
      ]
    },
    {
      "cell_type": "code",
      "execution_count": 114,
      "metadata": {
        "id": "2Tu1Azzh0tMJ"
      },
      "outputs": [],
      "source": [
        "# Add the two arrays together\n",
        "sonuc = arrayint + arrayones"
      ]
    },
    {
      "cell_type": "code",
      "execution_count": 115,
      "metadata": {
        "id": "QZXrigHZ0tMJ"
      },
      "outputs": [],
      "source": [
        "# Create another array of ones of shape (5, 3)\n",
        "arrayones = np.ones((5,3))"
      ]
    },
    {
      "cell_type": "code",
      "execution_count": 148,
      "metadata": {
        "id": "MUTWXGSk0tMJ",
        "outputId": "e425954d-5e0b-4b98-aa6d-63afbf3243db",
        "colab": {
          "base_uri": "https://localhost:8080/",
          "height": 166
        }
      },
      "outputs": [
        {
          "output_type": "error",
          "ename": "NameError",
          "evalue": "name 'snouc' is not defined",
          "traceback": [
            "\u001b[0;31m---------------------------------------------------------------------------\u001b[0m",
            "\u001b[0;31mNameError\u001b[0m                                 Traceback (most recent call last)",
            "\u001b[0;32m/tmp/ipython-input-4195589982.py\u001b[0m in \u001b[0;36m<cell line: 0>\u001b[0;34m()\u001b[0m\n\u001b[1;32m      1\u001b[0m \u001b[0;31m# Try add the array of ones and the other most recent array together\u001b[0m\u001b[0;34m\u001b[0m\u001b[0;34m\u001b[0m\u001b[0m\n\u001b[0;32m----> 2\u001b[0;31m \u001b[0msnouc\u001b[0m \u001b[0;34m+\u001b[0m \u001b[0marrayones\u001b[0m\u001b[0;34m\u001b[0m\u001b[0;34m\u001b[0m\u001b[0m\n\u001b[0m",
            "\u001b[0;31mNameError\u001b[0m: name 'snouc' is not defined"
          ]
        }
      ],
      "source": [
        "# Try add the array of ones and the other most recent array together\n",
        "snouc + arrayones"
      ]
    },
    {
      "cell_type": "markdown",
      "metadata": {
        "id": "DZuZ17nt0tMJ"
      },
      "source": [
        "When you try the last cell, it produces an error. Why do think this is?\n",
        "\n",
        "How would you fix it?"
      ]
    },
    {
      "cell_type": "code",
      "execution_count": 117,
      "metadata": {
        "id": "dBmqW1h80tMJ"
      },
      "outputs": [],
      "source": [
        "# Create another array of ones of shape (3, 5)\n",
        "newarray = np.ones((3,5))"
      ]
    },
    {
      "cell_type": "code",
      "execution_count": 149,
      "metadata": {
        "id": "YK6hgUGh0tMJ",
        "outputId": "675b06fe-9429-43b4-c52e-4744700a10e5",
        "colab": {
          "base_uri": "https://localhost:8080/"
        }
      },
      "outputs": [
        {
          "output_type": "execute_result",
          "data": {
            "text/plain": [
              "array([[-6., -7., -2.,  0., -3.],\n",
              "       [-1., -7., -3., -1., -5.],\n",
              "       [-5., -9., -3., -5., -1.]])"
            ]
          },
          "metadata": {},
          "execution_count": 149
        }
      ],
      "source": [
        "# Subtract the new array of ones from the other most recent array\n",
        "newarray - sonuc"
      ]
    },
    {
      "cell_type": "code",
      "execution_count": 151,
      "metadata": {
        "id": "m_PvBl9-0tMJ",
        "outputId": "a8c9b53f-0bc7-4f2a-cc3f-6b9284238d08",
        "colab": {
          "base_uri": "https://localhost:8080/"
        }
      },
      "outputs": [
        {
          "output_type": "execute_result",
          "data": {
            "text/plain": [
              "array([[ 7.,  8.,  3.,  1.,  4.],\n",
              "       [ 2.,  8.,  4.,  2.,  6.],\n",
              "       [ 6., 10.,  4.,  6.,  2.]])"
            ]
          },
          "metadata": {},
          "execution_count": 151
        }
      ],
      "source": [
        "# Multiply the ones array with the latest array\n",
        "sonuc*newarray"
      ]
    },
    {
      "cell_type": "code",
      "execution_count": 152,
      "metadata": {
        "id": "_Ib50cy50tMJ",
        "outputId": "b18ab079-7e19-4366-d762-91eb371948f7",
        "colab": {
          "base_uri": "https://localhost:8080/"
        }
      },
      "outputs": [
        {
          "output_type": "execute_result",
          "data": {
            "text/plain": [
              "array([[ 7.,  8.,  3.,  1.,  4.],\n",
              "       [ 2.,  8.,  4.,  2.,  6.],\n",
              "       [ 6., 10.,  4.,  6.,  2.]])"
            ]
          },
          "metadata": {},
          "execution_count": 152
        }
      ],
      "source": [
        "# Take the latest array to the power of 2 using '**'\n",
        "sonuc**newarray"
      ]
    },
    {
      "cell_type": "code",
      "execution_count": 153,
      "metadata": {
        "id": "OTiK5Br60tMJ",
        "outputId": "89816489-7f75-49fd-d26d-faf44b81c4f4",
        "colab": {
          "base_uri": "https://localhost:8080/"
        }
      },
      "outputs": [
        {
          "output_type": "execute_result",
          "data": {
            "text/plain": [
              "array([[ 49.,  64.,   9.,   1.,  16.],\n",
              "       [  4.,  64.,  16.,   4.,  36.],\n",
              "       [ 36., 100.,  16.,  36.,   4.]])"
            ]
          },
          "metadata": {},
          "execution_count": 153
        }
      ],
      "source": [
        "# Do the same thing with np.square()\n",
        "np.square(sonuc)"
      ]
    },
    {
      "cell_type": "code",
      "execution_count": 154,
      "metadata": {
        "id": "ef2a7n1-0tMJ",
        "outputId": "9efb213f-8eea-4c56-da0c-78d31b68c860",
        "colab": {
          "base_uri": "https://localhost:8080/"
        }
      },
      "outputs": [
        {
          "output_type": "execute_result",
          "data": {
            "text/plain": [
              "np.float64(4.866666666666666)"
            ]
          },
          "metadata": {},
          "execution_count": 154
        }
      ],
      "source": [
        "# Find the mean of the latest array using np.mean()\n",
        "np.mean(sonuc)"
      ]
    },
    {
      "cell_type": "code",
      "execution_count": 155,
      "metadata": {
        "id": "sKefud7X0tMK",
        "outputId": "e81927bf-de4f-4b87-d695-1f685d2a38a1",
        "colab": {
          "base_uri": "https://localhost:8080/"
        }
      },
      "outputs": [
        {
          "output_type": "execute_result",
          "data": {
            "text/plain": [
              "np.float64(10.0)"
            ]
          },
          "metadata": {},
          "execution_count": 155
        }
      ],
      "source": [
        "# Find the maximum of the latest array using np.max()\n",
        "np.max(sonuc)"
      ]
    },
    {
      "cell_type": "code",
      "execution_count": 157,
      "metadata": {
        "id": "41oHyu0b0tMK",
        "outputId": "e6cfd99e-0880-4587-9d80-0e980f9776ab",
        "colab": {
          "base_uri": "https://localhost:8080/"
        }
      },
      "outputs": [
        {
          "output_type": "execute_result",
          "data": {
            "text/plain": [
              "np.float64(1.0)"
            ]
          },
          "metadata": {},
          "execution_count": 157
        }
      ],
      "source": [
        "# Find the minimum of the latest array using np.min()\n",
        "np.min(sonuc)"
      ]
    },
    {
      "cell_type": "code",
      "execution_count": 156,
      "metadata": {
        "id": "usdcntM60tMK",
        "outputId": "98ecee27-5bd1-4031-85e1-5a42e9af59c9",
        "colab": {
          "base_uri": "https://localhost:8080/"
        }
      },
      "outputs": [
        {
          "output_type": "execute_result",
          "data": {
            "text/plain": [
              "np.float64(2.578543947441829)"
            ]
          },
          "metadata": {},
          "execution_count": 156
        }
      ],
      "source": [
        "# Find the standard deviation of the latest array\n",
        "np.std(sonuc)"
      ]
    },
    {
      "cell_type": "code",
      "execution_count": 158,
      "metadata": {
        "id": "CZ5FzdFj0tMK",
        "outputId": "b820f78a-cfbb-40f9-d0dd-b4744063e506",
        "colab": {
          "base_uri": "https://localhost:8080/"
        }
      },
      "outputs": [
        {
          "output_type": "execute_result",
          "data": {
            "text/plain": [
              "np.float64(6.648888888888889)"
            ]
          },
          "metadata": {},
          "execution_count": 158
        }
      ],
      "source": [
        "# Find the variance of the latest array\n",
        "np.var(sonuc)"
      ]
    },
    {
      "cell_type": "code",
      "execution_count": 160,
      "metadata": {
        "id": "4HiXDeVm0tMK",
        "outputId": "bb6466a1-69b7-478d-d486-c6757f86a52e",
        "colab": {
          "base_uri": "https://localhost:8080/"
        }
      },
      "outputs": [
        {
          "output_type": "execute_result",
          "data": {
            "text/plain": [
              "array([[[ 7.],\n",
              "        [ 8.],\n",
              "        [ 3.],\n",
              "        [ 1.],\n",
              "        [ 4.]],\n",
              "\n",
              "       [[ 2.],\n",
              "        [ 8.],\n",
              "        [ 4.],\n",
              "        [ 2.],\n",
              "        [ 6.]],\n",
              "\n",
              "       [[ 6.],\n",
              "        [10.],\n",
              "        [ 4.],\n",
              "        [ 6.],\n",
              "        [ 2.]]])"
            ]
          },
          "metadata": {},
          "execution_count": 160
        }
      ],
      "source": [
        "# Reshape the latest array to (3, 5, 1)\n",
        "sonuc.reshape(3,5,1)"
      ]
    },
    {
      "cell_type": "code",
      "execution_count": 161,
      "metadata": {
        "id": "Z23Sszj00tMK",
        "outputId": "3b800f44-d6fc-4a41-80ca-a58cb188451b",
        "colab": {
          "base_uri": "https://localhost:8080/"
        }
      },
      "outputs": [
        {
          "output_type": "execute_result",
          "data": {
            "text/plain": [
              "array([[ 7.,  2.,  6.],\n",
              "       [ 8.,  8., 10.],\n",
              "       [ 3.,  4.,  4.],\n",
              "       [ 1.,  2.,  6.],\n",
              "       [ 4.,  6.,  2.]])"
            ]
          },
          "metadata": {},
          "execution_count": 161
        }
      ],
      "source": [
        "# Transpose the latest array\n",
        "sonuc.T"
      ]
    },
    {
      "cell_type": "markdown",
      "metadata": {
        "id": "4t46xs070tMK"
      },
      "source": [
        "What does the transpose do?"
      ]
    },
    {
      "cell_type": "code",
      "execution_count": 163,
      "metadata": {
        "id": "WFxqLg8X0tMK"
      },
      "outputs": [],
      "source": [
        "# Create two arrays of random integers between 0 to 10\n",
        "# one of size (3, 3) the other of size (3, 2)\n",
        "x = np.random.randint(0,10,size=(3,3))\n",
        "y = np.random.randint(0,10,size=(3,2))"
      ]
    },
    {
      "cell_type": "code",
      "execution_count": 164,
      "metadata": {
        "id": "dYEeUVug0tMK",
        "outputId": "9aad868c-678e-46bd-b27c-208176619cb9",
        "colab": {
          "base_uri": "https://localhost:8080/"
        }
      },
      "outputs": [
        {
          "output_type": "execute_result",
          "data": {
            "text/plain": [
              "array([[ 88, 117],\n",
              "       [100, 123],\n",
              "       [ 89, 127]])"
            ]
          },
          "metadata": {},
          "execution_count": 164
        }
      ],
      "source": [
        "# Perform a dot product on the two newest arrays you created\n",
        "np.dot(x,y)"
      ]
    },
    {
      "cell_type": "code",
      "execution_count": 165,
      "metadata": {
        "id": "psV_U4Hi0tMO"
      },
      "outputs": [],
      "source": [
        "# Create two arrays of random integers between 0 to 10\n",
        "# both of size (4, 3)\n",
        "c = np.random.randint(0,10,size=(4,3))\n",
        "d = np.random.randint(0,10,size=(4,3))"
      ]
    },
    {
      "cell_type": "code",
      "execution_count": 166,
      "metadata": {
        "id": "wMnkCJjO0tMO",
        "outputId": "1f06f8c3-59dd-46c4-87d2-c7f2a40f0dd6",
        "colab": {
          "base_uri": "https://localhost:8080/",
          "height": 166
        }
      },
      "outputs": [
        {
          "output_type": "error",
          "ename": "ValueError",
          "evalue": "shapes (4,3) and (4,3) not aligned: 3 (dim 1) != 4 (dim 0)",
          "traceback": [
            "\u001b[0;31m---------------------------------------------------------------------------\u001b[0m",
            "\u001b[0;31mValueError\u001b[0m                                Traceback (most recent call last)",
            "\u001b[0;32m/tmp/ipython-input-2158922834.py\u001b[0m in \u001b[0;36m<cell line: 0>\u001b[0;34m()\u001b[0m\n\u001b[1;32m      1\u001b[0m \u001b[0;31m# Perform a dot product on the two newest arrays you created\u001b[0m\u001b[0;34m\u001b[0m\u001b[0;34m\u001b[0m\u001b[0m\n\u001b[0;32m----> 2\u001b[0;31m \u001b[0mnp\u001b[0m\u001b[0;34m.\u001b[0m\u001b[0mdot\u001b[0m\u001b[0;34m(\u001b[0m\u001b[0mc\u001b[0m\u001b[0;34m,\u001b[0m\u001b[0md\u001b[0m\u001b[0;34m)\u001b[0m\u001b[0;34m\u001b[0m\u001b[0;34m\u001b[0m\u001b[0m\n\u001b[0m",
            "\u001b[0;31mValueError\u001b[0m: shapes (4,3) and (4,3) not aligned: 3 (dim 1) != 4 (dim 0)"
          ]
        }
      ],
      "source": [
        "# Perform a dot product on the two newest arrays you created\n",
        "np.dot(c,d)"
      ]
    },
    {
      "cell_type": "markdown",
      "metadata": {
        "id": "MkPYlj9Q0tMO"
      },
      "source": [
        "It doesn't work. How would you fix it?"
      ]
    },
    {
      "cell_type": "code",
      "execution_count": 167,
      "metadata": {
        "id": "s0ZcumrX0tMO",
        "outputId": "04543817-933e-4c80-a657-5091d3262552",
        "colab": {
          "base_uri": "https://localhost:8080/"
        }
      },
      "outputs": [
        {
          "output_type": "execute_result",
          "data": {
            "text/plain": [
              "array([[ 24, 102,  96,   8],\n",
              "       [ 16, 114, 106,  63],\n",
              "       [ 22, 123, 114,  56],\n",
              "       [  8,  60,  58,   7]])"
            ]
          },
          "metadata": {},
          "execution_count": 167
        }
      ],
      "source": [
        "# Take the latest two arrays, perform a transpose on one of them and then perform\n",
        "# a dot product on them both\n",
        "np.dot(c,d.T)"
      ]
    },
    {
      "cell_type": "markdown",
      "metadata": {
        "id": "nS37FL8o0tMO"
      },
      "source": [
        "Notice how performing a transpose allows the dot product to happen.\n",
        "\n",
        "Why is this?\n",
        "\n",
        "Checking out the documentation on [`np.dot()`](https://docs.scipy.org/doc/numpy/reference/generated/numpy.dot.html) may help, as well as reading [Math is Fun's guide on the dot product](https://www.mathsisfun.com/algebra/vectors-dot-product.html).\n",
        "\n",
        "Let's now compare arrays."
      ]
    },
    {
      "cell_type": "code",
      "execution_count": 168,
      "metadata": {
        "id": "WBq_di-k0tMO"
      },
      "outputs": [],
      "source": [
        "# Create two arrays of random integers between 0 & 10 of the same shape\n",
        "# and save them to variables\n",
        "k = np.random.randint(0,10,size=(4,3))\n",
        "l = np.random.randint(0,10,size=(4,3))"
      ]
    },
    {
      "cell_type": "code",
      "execution_count": 169,
      "metadata": {
        "id": "QMaa9dZL0tMO",
        "outputId": "1a32d8dc-d346-4f6f-cfc2-f17f909ae6d3",
        "colab": {
          "base_uri": "https://localhost:8080/"
        }
      },
      "outputs": [
        {
          "output_type": "execute_result",
          "data": {
            "text/plain": [
              "array([[False, False,  True],\n",
              "       [ True,  True,  True],\n",
              "       [ True,  True,  True],\n",
              "       [ True, False,  True]])"
            ]
          },
          "metadata": {},
          "execution_count": 169
        }
      ],
      "source": [
        "# Compare the two arrays with '>'\n",
        "k < l"
      ]
    },
    {
      "cell_type": "markdown",
      "metadata": {
        "id": "HDkkQ0yD0tMP"
      },
      "source": [
        "What happens when you compare the arrays with `>`?"
      ]
    },
    {
      "cell_type": "code",
      "execution_count": 170,
      "metadata": {
        "id": "A0R8aEhg0tMP",
        "outputId": "b0a1f839-5ae8-4e3e-916a-45f40b771449",
        "colab": {
          "base_uri": "https://localhost:8080/"
        }
      },
      "outputs": [
        {
          "output_type": "execute_result",
          "data": {
            "text/plain": [
              "array([[ True,  True, False],\n",
              "       [False, False, False],\n",
              "       [False, False, False],\n",
              "       [False,  True, False]])"
            ]
          },
          "metadata": {},
          "execution_count": 170
        }
      ],
      "source": [
        "# Compare the two arrays with '>='\n",
        "k>=l"
      ]
    },
    {
      "cell_type": "code",
      "execution_count": 171,
      "metadata": {
        "id": "IMvM7yzr0tMP",
        "outputId": "24f6e2ce-872a-4346-e35f-d0e11ea4039b",
        "colab": {
          "base_uri": "https://localhost:8080/"
        }
      },
      "outputs": [
        {
          "output_type": "execute_result",
          "data": {
            "text/plain": [
              "array([[ True,  True,  True],\n",
              "       [ True,  True,  True],\n",
              "       [ True,  True,  True],\n",
              "       [ True,  True,  True]])"
            ]
          },
          "metadata": {},
          "execution_count": 171
        }
      ],
      "source": [
        "# Find which elements of the first array are greater than 7\n",
        "7>=k"
      ]
    },
    {
      "cell_type": "code",
      "execution_count": 173,
      "metadata": {
        "id": "e6OhP88R0tMP",
        "outputId": "fb347a3a-0fb0-44d6-bd3e-b25ec28afaa9",
        "colab": {
          "base_uri": "https://localhost:8080/"
        }
      },
      "outputs": [
        {
          "output_type": "execute_result",
          "data": {
            "text/plain": [
              "array([[False, False, False],\n",
              "       [False, False, False],\n",
              "       [False, False, False],\n",
              "       [False, False, False]])"
            ]
          },
          "metadata": {},
          "execution_count": 173
        }
      ],
      "source": [
        "# Which parts of each array are equal? (try using '==')\n",
        "k==l"
      ]
    },
    {
      "cell_type": "code",
      "execution_count": 174,
      "metadata": {
        "id": "CB3iRODV0tMP",
        "outputId": "84e10c47-9577-46fa-a27c-f136d8e98def",
        "colab": {
          "base_uri": "https://localhost:8080/"
        }
      },
      "outputs": [
        {
          "output_type": "execute_result",
          "data": {
            "text/plain": [
              "array([[6, 6, 7],\n",
              "       [2, 4, 7],\n",
              "       [0, 2, 5],\n",
              "       [2, 2, 4]])"
            ]
          },
          "metadata": {},
          "execution_count": 174
        }
      ],
      "source": [
        "# Sort one of the arrays you just created in ascending order\n",
        "np.sort(k)"
      ]
    },
    {
      "cell_type": "code",
      "execution_count": 175,
      "metadata": {
        "id": "VDw8bRt50tMP",
        "outputId": "60672a90-62d3-4bc5-b0a4-cf78ba3bd497",
        "colab": {
          "base_uri": "https://localhost:8080/"
        }
      },
      "outputs": [
        {
          "output_type": "execute_result",
          "data": {
            "text/plain": [
              "array([[0, 1, 2],\n",
              "       [1, 0, 2],\n",
              "       [2, 1, 0],\n",
              "       [0, 2, 1]])"
            ]
          },
          "metadata": {},
          "execution_count": 175
        }
      ],
      "source": [
        "# Sort the indexes of one of the arrays you just created\n",
        "np.argsort(k)"
      ]
    },
    {
      "cell_type": "code",
      "execution_count": 177,
      "metadata": {
        "id": "UOByo3SQ0tMP",
        "outputId": "313f9d33-3a44-4daf-cd05-fb2198c4f143",
        "colab": {
          "base_uri": "https://localhost:8080/"
        }
      },
      "outputs": [
        {
          "output_type": "execute_result",
          "data": {
            "text/plain": [
              "np.int64(2)"
            ]
          },
          "metadata": {},
          "execution_count": 177
        }
      ],
      "source": [
        "# Find the index with the maximum value in one of the arrays you've created\n",
        "np.argmax(k)"
      ]
    },
    {
      "cell_type": "code",
      "execution_count": 178,
      "metadata": {
        "id": "QrHDp4TR0tMP",
        "outputId": "776acea6-fbba-4afd-aef2-eb16828f61a7",
        "colab": {
          "base_uri": "https://localhost:8080/"
        }
      },
      "outputs": [
        {
          "output_type": "execute_result",
          "data": {
            "text/plain": [
              "np.int64(8)"
            ]
          },
          "metadata": {},
          "execution_count": 178
        }
      ],
      "source": [
        "# Find the index with the minimum value in one of the arrays you've created\n",
        "np.argmin(k)"
      ]
    },
    {
      "cell_type": "code",
      "execution_count": 179,
      "metadata": {
        "id": "peCpw5hV0tMP",
        "outputId": "7e9bcc9a-bf3d-47a0-957a-7eac977123f8",
        "colab": {
          "base_uri": "https://localhost:8080/"
        }
      },
      "outputs": [
        {
          "output_type": "execute_result",
          "data": {
            "text/plain": [
              "array([2, 2, 0, 1])"
            ]
          },
          "metadata": {},
          "execution_count": 179
        }
      ],
      "source": [
        "# Find the indexes with the maximum values down the 1st axis (axis=1)\n",
        "# of one of the arrays you created\n",
        "np.argmax(k,axis=1)"
      ]
    },
    {
      "cell_type": "code",
      "execution_count": 181,
      "metadata": {
        "id": "kMlQ5Zpn0tMP",
        "outputId": "0044a0fc-26cb-4be4-caf1-d2f43f511210",
        "colab": {
          "base_uri": "https://localhost:8080/"
        }
      },
      "outputs": [
        {
          "output_type": "execute_result",
          "data": {
            "text/plain": [
              "array([0, 1, 2, 0])"
            ]
          },
          "metadata": {},
          "execution_count": 181
        }
      ],
      "source": [
        "# Find the indexes with the minimum values across the 0th axis (axis=0)\n",
        "# of one of the arrays you created\n",
        "np.argmin(k,axis=1)"
      ]
    },
    {
      "cell_type": "code",
      "execution_count": 182,
      "metadata": {
        "id": "FX3JFK2n0tMQ",
        "outputId": "5f20fa70-5ed2-4dac-b058-be70d84f576a",
        "colab": {
          "base_uri": "https://localhost:8080/"
        }
      },
      "outputs": [
        {
          "output_type": "execute_result",
          "data": {
            "text/plain": [
              "array([[ 1.79428084,  0.58068954,  0.29765045, -1.02811577, -1.41859646],\n",
              "       [ 0.19033698,  0.13575383,  0.60808966,  0.70498131,  0.36092338],\n",
              "       [-1.46696789,  0.89262947, -0.10525713, -0.95534644, -0.41476463]])"
            ]
          },
          "metadata": {},
          "execution_count": 182
        }
      ],
      "source": [
        "# Create an array of normally distributed random numbers\n",
        "np.random.randn(3, 5)\n"
      ]
    },
    {
      "cell_type": "code",
      "execution_count": 183,
      "metadata": {
        "id": "FQJkZJCW0tMQ",
        "outputId": "4a32d01f-9584-48de-b370-49b926317ebe",
        "colab": {
          "base_uri": "https://localhost:8080/"
        }
      },
      "outputs": [
        {
          "output_type": "execute_result",
          "data": {
            "text/plain": [
              "array([  1.,  12.,  23.,  34.,  45.,  56.,  67.,  78.,  89., 100.])"
            ]
          },
          "metadata": {},
          "execution_count": 183
        }
      ],
      "source": [
        "# Create an array with 10 evenly spaced numbers between 1 and 100\n",
        "np.linspace(1, 100, 10)"
      ]
    },
    {
      "cell_type": "markdown",
      "metadata": {
        "id": "2ob2Y7iI0tMQ"
      },
      "source": [
        "## Extensions\n",
        "\n",
        "For more exercises, check out the [NumPy quickstart tutorial](https://numpy.org/doc/stable/user/quickstart.html). A good practice would be to read through it and for the parts you find interesting, add them into the end of this notebook.\n",
        "\n",
        "Pay particular attention to the section on broadcasting. And most importantly, get hands-on with the code as much as possible. If in dobut, run the code, see what it does.\n",
        "\n",
        "The next place you could go is the [Stack Overflow page for the top questions and answers for NumPy](https://stackoverflow.com/questions/tagged/numpy?sort=MostVotes&edited=true). Often, you'll find some of the most common and useful NumPy functions here. Don't forget to play around with the filters! You'll likely find something helpful here.\n",
        "\n",
        "Finally, as always, remember, the best way to learn something new is to try it. And try it relentlessly. If you get interested in some kind of NumPy function, asking yourself, \"I wonder if NumPy could do that?\", go and find out."
      ]
    }
  ],
  "metadata": {
    "kernelspec": {
      "display_name": "Python 3",
      "language": "python",
      "name": "python3"
    },
    "language_info": {
      "codemirror_mode": {
        "name": "ipython",
        "version": 3
      },
      "file_extension": ".py",
      "mimetype": "text/x-python",
      "name": "python",
      "nbconvert_exporter": "python",
      "pygments_lexer": "ipython3",
      "version": "3.8.3"
    },
    "colab": {
      "provenance": []
    }
  },
  "nbformat": 4,
  "nbformat_minor": 0
}